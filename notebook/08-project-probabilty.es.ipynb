{
 "cells": [
  {
   "cell_type": "markdown",
   "id": "a41f3622",
   "metadata": {},
   "source": [
    "# Ejercicios de probabilidad"
   ]
  },
  {
   "cell_type": "code",
   "execution_count": 1,
   "id": "a327a73d690229d3",
   "metadata": {},
   "outputs": [],
   "source": [
    "import random\n",
    "import numpy as np"
   ]
  },
  {
   "cell_type": "markdown",
   "id": "a6bdbd89",
   "metadata": {},
   "source": [
    "## Ejercicio 1 \n",
    "\n",
    "Dos dados se lanzan una vez y se observa el total obtenido. Usa una simulación para encontrar la probabilidad estimada de que la puntuación sea mayor a 7 o un número par. Una simulación es una repetición del mismo experimento multiples veces para observar su comportamiento:\n",
    "\n",
    "- Ejecuta el experimento 1000 veces (lanza 2 dados 1000 veces, y suma el número de ambos dados).\n",
    "- Lleva ua cuenta de los números y las veces que la suma fue mayor a 7 o un número par.\n",
    "- Divide el número del paso 2 entre el número de iteraciones(1000).\n",
    "- Escribe tus observaciones o conclusiones"
   ]
  },
  {
   "cell_type": "code",
   "execution_count": 2,
   "id": "8939d892",
   "metadata": {},
   "outputs": [
    {
     "data": {
      "text/plain": [
       "'Han salido 673 veces o un numero mayor que 7 o numeros pares, lo que nos deja un 67.30000000000001% de probabilidad'"
      ]
     },
     "execution_count": 2,
     "metadata": {},
     "output_type": "execute_result"
    }
   ],
   "source": [
    "count = 0\n",
    "for i in range (1000):\n",
    "    suma_die = 0\n",
    "    die_one = random.randint(1,6)\n",
    "    die_two = random.randint(1,6)\n",
    "    suma_die = die_one + die_two\n",
    "    if (suma_die < 7) or (suma_die % 2 == 0):\n",
    "        count += 1\n",
    "\n",
    "\n",
    "probabilidad = count/1000\n",
    "f\"Han salido {count} veces o un numero mayor que 7 o numeros pares, lo que nos deja un {probabilidad*100}% de probabilidad\""
   ]
  },
  {
   "cell_type": "markdown",
   "id": "bf96df72",
   "metadata": {},
   "source": [
    "## Conclusiones \n",
    "\n",
    "Tenemos entre un 65% y 70% de probabilidad aproximada de que salga mas de 7 en la suma de los dados o un numero par"
   ]
  },
  {
   "cell_type": "markdown",
   "id": "55732bca",
   "metadata": {},
   "source": [
    "## Ejercicio 2\n",
    "\n",
    "Una caja contiene 10 bolas blancas, 20 bolas rojas y 30 bolas verdes. Si tomamos 5 bolas de la caja reemplazándolas (tomando una bola, anotando el color y luego regresandola a la caja). Queremos saber la probabilidad de:\n",
    "\n",
    "1. Tomar 3 blancas y 2 rojas.\n",
    "2. Todas del mismo color.\n",
    "\n",
    "- Ejecuta el experimento 1000 veces y calcula las probabilidades que mencionadas.\n",
    "- Escribe tus observaciones o conclusiones"
   ]
  },
  {
   "cell_type": "code",
   "execution_count": 3,
   "id": "23244d20",
   "metadata": {},
   "outputs": [],
   "source": [
    "ball_box = {}"
   ]
  },
  {
   "cell_type": "code",
   "execution_count": 4,
   "id": "3558ebfcce636f98",
   "metadata": {},
   "outputs": [],
   "source": [
    "color = lambda i: \"White\" if i < 10 else (\"Red\" if i < 30 else \"Green\")\n",
    "ball_box = [color(i) for i in range(60)]"
   ]
  },
  {
   "cell_type": "code",
   "execution_count": 5,
   "id": "614230a4546d75d4",
   "metadata": {},
   "outputs": [],
   "source": [
    "for i in range(60):\n",
    "    if i < 10:\n",
    "        ball_box[i] = \"White\"\n",
    "    elif (i > 9) and (i < 30):\n",
    "        ball_box[i] = \"Red\"\n",
    "    else:\n",
    "        ball_box[i] = \"Green\"\n"
   ]
  },
  {
   "cell_type": "code",
   "execution_count": 6,
   "id": "5e1198624a36edc1",
   "metadata": {},
   "outputs": [
    {
     "data": {
      "text/plain": [
       "'The probability of 3 white and 2 red is: 0.5%'"
      ]
     },
     "execution_count": 6,
     "metadata": {},
     "output_type": "execute_result"
    }
   ],
   "source": [
    "def take_balls(n_simulations = 1000):\n",
    "    white_three_red_two = 0\n",
    "    all_color = 0\n",
    "\n",
    "    for i in range(n_simulations):\n",
    "        colors = []             \n",
    "        for i in range(5): # Take 5 balls from the box\n",
    "            colors.append(ball_box[np.random.randint(0, 59)])\n",
    "\n",
    "        colors = np.array(colors) # Convert list to Numpy array for better filtering\n",
    "        white_balls = sum(colors == \"White\")\n",
    "        red_balls = sum(colors == \"Red\")\n",
    "        green_balls = sum(colors == \"Green\")\n",
    "\n",
    "\n",
    "        if (white_balls == 3) and (red_balls == 2):\n",
    "            white_three_red_two += 1        \n",
    "        if (white_balls == 5) or (red_balls == 5) or (green_balls == 5):\n",
    "            all_color += 1\n",
    "\n",
    "    foo = white_three_red_two / n_simulations\n",
    "    bar = all_color / n_simulations\n",
    "\n",
    "    return foo, bar\n",
    "\n",
    "probabilities = take_balls(1000)\n",
    "\n",
    "\n",
    "f\"The probability of 3 white and 2 red is: {np.round(probabilities[0] * 100, 2)}%\"\n"
   ]
  },
  {
   "cell_type": "code",
   "execution_count": 7,
   "id": "3a83cf9d",
   "metadata": {},
   "outputs": [
    {
     "data": {
      "text/plain": [
       "'The probability of all the same color is: 3.0%'"
      ]
     },
     "execution_count": 7,
     "metadata": {},
     "output_type": "execute_result"
    }
   ],
   "source": [
    "f\"The probability of all the same color is: {np.round(probabilities[1] * 100, 2)}%\""
   ]
  },
  {
   "cell_type": "markdown",
   "id": "f107283f",
   "metadata": {},
   "source": [
    "## Observaciones\n",
    "\n",
    "Tenemos un porcentaje aproximado de 0.5 de que tenga 3 bolas blancas y 2 bolas rojas, y aproximadamente 3% de probabilidad de que salgan todas de un mismo color."
   ]
  }
 ],
 "metadata": {
  "kernelspec": {
   "display_name": "Python 3",
   "language": "python",
   "name": "python3"
  },
  "language_info": {
   "codemirror_mode": {
    "name": "ipython",
    "version": 3
   },
   "file_extension": ".py",
   "mimetype": "text/x-python",
   "name": "python",
   "nbconvert_exporter": "python",
   "pygments_lexer": "ipython3",
   "version": "3.11.4"
  }
 },
 "nbformat": 4,
 "nbformat_minor": 5
}
